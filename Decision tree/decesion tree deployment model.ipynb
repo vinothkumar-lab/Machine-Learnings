{
 "cells": [
  {
   "cell_type": "code",
   "execution_count": 1,
   "id": "d395e793",
   "metadata": {},
   "outputs": [],
   "source": [
    "import pickle"
   ]
  },
  {
   "cell_type": "code",
   "execution_count": 2,
   "id": "7eb06739",
   "metadata": {},
   "outputs": [],
   "source": [
    "load_model=pickle.load(open(\"Final_Model_DTR.sav\", 'rb'))"
   ]
  },
  {
   "cell_type": "code",
   "execution_count": 3,
   "id": "c53fbcbe",
   "metadata": {},
   "outputs": [
    {
     "name": "stdout",
     "output_type": "stream",
     "text": [
      "Enter the Budget for R&D: 25000\n",
      "Enter the Budget for Administration: 20000\n",
      "Enter the Budget for Marketing: 15000\n",
      "Enter the State is Florida - type 0 for no and type 1 for yes: 0\n",
      "Enter the State is New York - type 0 for no and type 1 for yes: 1\n",
      "The profile is Rs. [71498.49]\n"
     ]
    },
    {
     "name": "stderr",
     "output_type": "stream",
     "text": [
      "C:\\Users\\user\\anaconda3\\Lib\\site-packages\\sklearn\\base.py:464: UserWarning: X does not have valid feature names, but DecisionTreeRegressor was fitted with feature names\n",
      "  warnings.warn(\n"
     ]
    }
   ],
   "source": [
    "RD=float(input(\"Enter the Budget for R&D: \"))\n",
    "ADMIN=float(input(\"Enter the Budget for Administration: \"))\n",
    "MARK=float(input(\"Enter the Budget for Marketing: \"))\n",
    "STF=float(input(\"Enter the State is Florida - type 0 for no and type 1 for yes: \"))\n",
    "STN=float(input(\"Enter the State is New York - type 0 for no and type 1 for yes: \"))\n",
    "result=load_model.predict([[RD,ADMIN,MARK,STF,STN]])\n",
    "print(\"The profile is Rs.\",result)"
   ]
  },
  {
   "cell_type": "code",
   "execution_count": null,
   "id": "ab7c6ae8",
   "metadata": {},
   "outputs": [],
   "source": []
  }
 ],
 "metadata": {
  "kernelspec": {
   "display_name": "Python 3 (ipykernel)",
   "language": "python",
   "name": "python3"
  },
  "language_info": {
   "codemirror_mode": {
    "name": "ipython",
    "version": 3
   },
   "file_extension": ".py",
   "mimetype": "text/x-python",
   "name": "python",
   "nbconvert_exporter": "python",
   "pygments_lexer": "ipython3",
   "version": "3.11.5"
  }
 },
 "nbformat": 4,
 "nbformat_minor": 5
}
